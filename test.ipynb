{
 "cells": [
  {
   "cell_type": "code",
   "execution_count": 22,
   "metadata": {},
   "outputs": [
    {
     "data": {
      "text/plain": [
       "('off', 'None')"
      ]
     },
     "execution_count": 22,
     "metadata": {},
     "output_type": "execute_result"
    }
   ],
   "source": [
    "import random as rd\n",
    "\n",
    "lamp_modes = [\"off\",\"on\"]\n",
    "road_states = ['None',\"pedestrian\",\"Car\"]\n",
    "\n",
    "rand_lamp_mode = rd.randint(0,len(lamp_modes)-1)\n",
    "rand_road_state = rd.randint(0,len(road_states)-1)\n",
    "\n",
    "lamp_modes[rand_lamp_mode],road_states[rand_road_state]"
   ]
  }
 ],
 "metadata": {
  "kernelspec": {
   "display_name": "Python 3.8.5 64-bit",
   "language": "python",
   "name": "python3"
  },
  "language_info": {
   "codemirror_mode": {
    "name": "ipython",
    "version": 3
   },
   "file_extension": ".py",
   "mimetype": "text/x-python",
   "name": "python",
   "nbconvert_exporter": "python",
   "pygments_lexer": "ipython3",
   "version": "3.8.5"
  },
  "orig_nbformat": 4,
  "vscode": {
   "interpreter": {
    "hash": "dc585806253eac22a12bd59e2b7640130a105f9c54142261731c61daa4d443e8"
   }
  }
 },
 "nbformat": 4,
 "nbformat_minor": 2
}
