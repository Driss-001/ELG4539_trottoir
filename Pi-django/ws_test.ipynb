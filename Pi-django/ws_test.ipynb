{
 "cells": [
  {
   "cell_type": "code",
   "execution_count": 16,
   "metadata": {},
   "outputs": [
    {
     "ename": "WebSocketBadStatusException",
     "evalue": "Handshake status 200 OK",
     "output_type": "error",
     "traceback": [
      "\u001b[1;31m---------------------------------------------------------------------------\u001b[0m",
      "\u001b[1;31mWebSocketBadStatusException\u001b[0m               Traceback (most recent call last)",
      "\u001b[1;32mc:\\Users\\driss\\Documents\\ELG4539_trottoir\\Pi-django\\ws_test.ipynb Cellule 1\u001b[0m in \u001b[0;36m<cell line: 7>\u001b[1;34m()\u001b[0m\n\u001b[0;32m      <a href='vscode-notebook-cell:/c%3A/Users/driss/Documents/ELG4539_trottoir/Pi-django/ws_test.ipynb#W0sZmlsZQ%3D%3D?line=2'>3</a>\u001b[0m \u001b[39mimport\u001b[39;00m \u001b[39mredis\u001b[39;00m\n\u001b[0;32m      <a href='vscode-notebook-cell:/c%3A/Users/driss/Documents/ELG4539_trottoir/Pi-django/ws_test.ipynb#W0sZmlsZQ%3D%3D?line=5'>6</a>\u001b[0m ws \u001b[39m=\u001b[39m websocket\u001b[39m.\u001b[39mWebSocket()\n\u001b[1;32m----> <a href='vscode-notebook-cell:/c%3A/Users/driss/Documents/ELG4539_trottoir/Pi-django/ws_test.ipynb#W0sZmlsZQ%3D%3D?line=6'>7</a>\u001b[0m ws\u001b[39m.\u001b[39;49mconnect(\u001b[39m'\u001b[39;49m\u001b[39mws:http://127.0.0.1:8000/ws/RoadState/\u001b[39;49m\u001b[39m'\u001b[39;49m)\n",
      "File \u001b[1;32mc:\\Users\\driss\\AppData\\Local\\Programs\\Python\\Python310\\lib\\site-packages\\websocket\\_core.py:248\u001b[0m, in \u001b[0;36mWebSocket.connect\u001b[1;34m(self, url, **options)\u001b[0m\n\u001b[0;32m    244\u001b[0m \u001b[39mself\u001b[39m\u001b[39m.\u001b[39msock, addrs \u001b[39m=\u001b[39m connect(url, \u001b[39mself\u001b[39m\u001b[39m.\u001b[39msock_opt, proxy_info(\u001b[39m*\u001b[39m\u001b[39m*\u001b[39moptions),\n\u001b[0;32m    245\u001b[0m                            options\u001b[39m.\u001b[39mpop(\u001b[39m'\u001b[39m\u001b[39msocket\u001b[39m\u001b[39m'\u001b[39m, \u001b[39mNone\u001b[39;00m))\n\u001b[0;32m    247\u001b[0m \u001b[39mtry\u001b[39;00m:\n\u001b[1;32m--> 248\u001b[0m     \u001b[39mself\u001b[39m\u001b[39m.\u001b[39mhandshake_response \u001b[39m=\u001b[39m handshake(\u001b[39mself\u001b[39m\u001b[39m.\u001b[39msock, url, \u001b[39m*\u001b[39maddrs, \u001b[39m*\u001b[39m\u001b[39m*\u001b[39moptions)\n\u001b[0;32m    249\u001b[0m     \u001b[39mfor\u001b[39;00m attempt \u001b[39min\u001b[39;00m \u001b[39mrange\u001b[39m(options\u001b[39m.\u001b[39mpop(\u001b[39m'\u001b[39m\u001b[39mredirect_limit\u001b[39m\u001b[39m'\u001b[39m, \u001b[39m3\u001b[39m)):\n\u001b[0;32m    250\u001b[0m         \u001b[39mif\u001b[39;00m \u001b[39mself\u001b[39m\u001b[39m.\u001b[39mhandshake_response\u001b[39m.\u001b[39mstatus \u001b[39min\u001b[39;00m SUPPORTED_REDIRECT_STATUSES:\n",
      "File \u001b[1;32mc:\\Users\\driss\\AppData\\Local\\Programs\\Python\\Python310\\lib\\site-packages\\websocket\\_handshake.py:57\u001b[0m, in \u001b[0;36mhandshake\u001b[1;34m(sock, url, hostname, port, resource, **options)\u001b[0m\n\u001b[0;32m     54\u001b[0m send(sock, header_str)\n\u001b[0;32m     55\u001b[0m dump(\u001b[39m\"\u001b[39m\u001b[39mrequest header\u001b[39m\u001b[39m\"\u001b[39m, header_str)\n\u001b[1;32m---> 57\u001b[0m status, resp \u001b[39m=\u001b[39m _get_resp_headers(sock)\n\u001b[0;32m     58\u001b[0m \u001b[39mif\u001b[39;00m status \u001b[39min\u001b[39;00m SUPPORTED_REDIRECT_STATUSES:\n\u001b[0;32m     59\u001b[0m     \u001b[39mreturn\u001b[39;00m handshake_response(status, resp, \u001b[39mNone\u001b[39;00m)\n",
      "File \u001b[1;32mc:\\Users\\driss\\AppData\\Local\\Programs\\Python\\Python310\\lib\\site-packages\\websocket\\_handshake.py:148\u001b[0m, in \u001b[0;36m_get_resp_headers\u001b[1;34m(sock, success_statuses)\u001b[0m\n\u001b[0;32m    146\u001b[0m status, resp_headers, status_message \u001b[39m=\u001b[39m read_headers(sock)\n\u001b[0;32m    147\u001b[0m \u001b[39mif\u001b[39;00m status \u001b[39mnot\u001b[39;00m \u001b[39min\u001b[39;00m success_statuses:\n\u001b[1;32m--> 148\u001b[0m     \u001b[39mraise\u001b[39;00m WebSocketBadStatusException(\u001b[39m\"\u001b[39m\u001b[39mHandshake status \u001b[39m\u001b[39m%d\u001b[39;00m\u001b[39m \u001b[39m\u001b[39m%s\u001b[39;00m\u001b[39m\"\u001b[39m, status, status_message, resp_headers)\n\u001b[0;32m    149\u001b[0m \u001b[39mreturn\u001b[39;00m status, resp_headers\n",
      "\u001b[1;31mWebSocketBadStatusException\u001b[0m: Handshake status 200 OK"
     ]
    }
   ],
   "source": [
    "import json,time,websocket,random\n",
    "import requests\n",
    "import redis\n",
    "\n",
    "\n",
    "ws = websocket.WebSocket()\n",
    "ws.connect('ws://localhost:8000/ws/RoadState/')"
   ]
  },
  {
   "cell_type": "code",
   "execution_count": null,
   "metadata": {},
   "outputs": [],
   "source": [
    "for i in range (0,100):\n",
    "    ws.send(json.dumps({'value':random.randint(0,3)}))\n",
    "    time.sleep(5)"
   ]
  }
 ],
 "metadata": {
  "kernelspec": {
   "display_name": "Python 3.10.4 64-bit",
   "language": "python",
   "name": "python3"
  },
  "language_info": {
   "codemirror_mode": {
    "name": "ipython",
    "version": 3
   },
   "file_extension": ".py",
   "mimetype": "text/x-python",
   "name": "python",
   "nbconvert_exporter": "python",
   "pygments_lexer": "ipython3",
   "version": "3.10.4"
  },
  "orig_nbformat": 4,
  "vscode": {
   "interpreter": {
    "hash": "1f5ba287b5109a79c23b22a3e573e1dc28953d4febe78cb876d4d61104101290"
   }
  }
 },
 "nbformat": 4,
 "nbformat_minor": 2
}
